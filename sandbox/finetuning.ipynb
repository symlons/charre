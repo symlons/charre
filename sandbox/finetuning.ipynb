{
 "cells": [
  {
   "cell_type": "code",
   "id": "initial_id",
   "metadata": {
    "collapsed": true,
    "ExecuteTime": {
     "end_time": "2025-04-30T16:39:23.806217Z",
     "start_time": "2025-04-30T16:39:12.918086Z"
    }
   },
   "source": [
    "import os\n",
    "import io\n",
    "import json\n",
    "import torch\n",
    "import mlflow\n",
    "import pandas as pd\n",
    "from pathlib import Path\n",
    "from datasets import Dataset\n",
    "from datetime import datetime\n",
    "from PIL import Image as PILImage\n",
    "from api.feedback.models import Feedback\n",
    "from transformers import TrainingArguments, Trainer\n",
    "from transformers import ViTImageProcessor, ViTForImageClassification\n",
    "from sklearn.metrics import accuracy_score, precision_score, recall_score, f1_score"
   ],
   "outputs": [],
   "execution_count": 1
  },
  {
   "metadata": {},
   "cell_type": "markdown",
   "source": "### Training Data (mock images and feedback list)",
   "id": "6149fddb1a6802a"
  },
  {
   "metadata": {
    "ExecuteTime": {
     "end_time": "2025-04-30T16:39:27.634950Z",
     "start_time": "2025-04-30T16:39:27.627821Z"
    }
   },
   "cell_type": "code",
   "source": [
    "IMG_MOCK_DIR = Path.cwd().parent / \"api\" / \"mock\"\n",
    "audi = IMG_MOCK_DIR / \"audi.jpg\"\n",
    "bmw = IMG_MOCK_DIR / \"bmw.jpg\"\n",
    "vw = IMG_MOCK_DIR / \"vw.jpg\"\n",
    "feedback = [\n",
    "    Feedback(\n",
    "        image=audi.read_bytes(),\n",
    "        label=\"Audi\",\n",
    "        correct=True,\n",
    "        correct_label=\"Audi\",\n",
    "    ),\n",
    "    Feedback(\n",
    "        image=bmw.read_bytes(),\n",
    "        label=\"Audi\",\n",
    "        correct=False,\n",
    "        correct_label=\"BMW\",\n",
    "    ),\n",
    "    Feedback(\n",
    "        image=vw.read_bytes(),\n",
    "        label=\"BMW\",\n",
    "        correct=False,\n",
    "        correct_label=\"Volkswagen\",\n",
    "    ),\n",
    "]"
   ],
   "id": "7493ab2404de8756",
   "outputs": [],
   "execution_count": 2
  },
  {
   "metadata": {
    "ExecuteTime": {
     "end_time": "2025-04-30T16:39:28.831014Z",
     "start_time": "2025-04-30T16:39:28.810279Z"
    }
   },
   "cell_type": "code",
   "source": [
    "image_bytes = [feedback_item.image for feedback_item in feedback]\n",
    "images = [PILImage.open(io.BytesIO(image_bytes)) for image_bytes in image_bytes]\n",
    "labels = [feedback_item.correct_label for feedback_item in feedback]\n",
    "df_train = pd.DataFrame({\"image\": image_bytes, \"label\": labels})"
   ],
   "id": "30c24815f97b9600",
   "outputs": [],
   "execution_count": 3
  },
  {
   "metadata": {},
   "cell_type": "markdown",
   "source": "### Validation Data",
   "id": "15f5326b96b11c3"
  },
  {
   "metadata": {
    "ExecuteTime": {
     "end_time": "2025-04-30T16:39:31.590585Z",
     "start_time": "2025-04-30T16:39:31.586554Z"
    }
   },
   "cell_type": "code",
   "source": [
    "def image_to_bytes(image_path: \"str\") -> bytes:\n",
    "    with open(image_path, \"rb\") as img_file:\n",
    "        return img_file.read()"
   ],
   "id": "b217594e0dbf3e69",
   "outputs": [],
   "execution_count": 4
  },
  {
   "metadata": {
    "ExecuteTime": {
     "end_time": "2025-04-30T16:39:32.672463Z",
     "start_time": "2025-04-30T16:39:32.525633Z"
    }
   },
   "cell_type": "code",
   "source": [
    "df_val = pd.read_csv(\"validation.csv\")\n",
    "df_val[\"image\"] = df_val[\"image_path\"].apply(image_to_bytes)\n",
    "df_val = df_val.drop(columns=[\"image_path\"])"
   ],
   "id": "8fed2cb4a975d4ac",
   "outputs": [],
   "execution_count": 5
  },
  {
   "metadata": {},
   "cell_type": "markdown",
   "source": "### Helper Functions",
   "id": "eca9422ccb02bb8f"
  },
  {
   "metadata": {
    "ExecuteTime": {
     "end_time": "2025-04-30T16:42:33.954521Z",
     "start_time": "2025-04-30T16:42:33.949262Z"
    }
   },
   "cell_type": "code",
   "source": [
    "def preprocess(example) -> dict:\n",
    "    \"\"\"\n",
    "    preprocessing necessary as FeedbackAPI provides image as bytes and not as files\n",
    "    :param example: entry in a Dataset object\n",
    "    :return: image (preprocessed) and label (preserved)\n",
    "    \"\"\"\n",
    "    image = PILImage.open(io.BytesIO(example[\"image\"])).convert(\"RGB\")\n",
    "    inputs = processor(images=image, return_tensors=\"np\")\n",
    "    label_id = label2id[example[\"label\"]]\n",
    "    return {\n",
    "        \"pixel_values\": inputs[\"pixel_values\"].squeeze(),\n",
    "        \"label\": label_id\n",
    "    }\n",
    "\n",
    "\n",
    "# Evaluation metric\n",
    "def compute_metrics(eval_pred) -> dict:\n",
    "    predictions = eval_pred.predictions\n",
    "    label_ids = eval_pred.label_ids\n",
    "    predicted_labels = predictions.argmax(axis=1)\n",
    "    return {\"accuracy\": accuracy_score(label_ids, predicted_labels)}\n",
    "\n",
    "\n",
    "# Data collator\n",
    "def collate_fn(examples):\n",
    "    pixel_values = torch.stack([torch.tensor(example[\"pixel_values\"]) for example in examples])\n",
    "    labels = torch.tensor([example['label'] for example in examples])\n",
    "    return {\"pixel_values\": pixel_values, \"labels\": labels}"
   ],
   "id": "28059290ad9b5f27",
   "outputs": [],
   "execution_count": 11
  },
  {
   "metadata": {},
   "cell_type": "markdown",
   "source": "### Model",
   "id": "bfe57a5d8f51a229"
  },
  {
   "metadata": {
    "ExecuteTime": {
     "end_time": "2025-04-30T16:42:36.547400Z",
     "start_time": "2025-04-30T16:42:35.984425Z"
    }
   },
   "cell_type": "code",
   "source": [
    "with open(\"config.json\", \"r\") as file:\n",
    "    config = json.load(file)\n",
    "id2label = config.get(\"id2label\")\n",
    "label2id = config.get(\"label2id\")\n",
    "\n",
    "# load model\n",
    "model_id = \"dima806/car_brands_image_detection\"\n",
    "processor = ViTImageProcessor.from_pretrained(model_id)\n",
    "model = ViTForImageClassification.from_pretrained(\n",
    "    model_id,\n",
    "    use_safetensors=True,\n",
    "    trust_remote_code=True\n",
    ")"
   ],
   "id": "56daaba3a8582673",
   "outputs": [],
   "execution_count": 12
  },
  {
   "metadata": {
    "ExecuteTime": {
     "end_time": "2025-04-30T16:42:40.406411Z",
     "start_time": "2025-04-30T16:42:38.440017Z"
    }
   },
   "cell_type": "code",
   "source": [
    "dataset_train = Dataset.from_pandas(df_train)\n",
    "dataset_train = dataset_train.map(preprocess)\n",
    "\n",
    "dataset_val = Dataset.from_pandas(df_val)\n",
    "dataset_val = dataset_val.map(preprocess)"
   ],
   "id": "707012b1055b8890",
   "outputs": [
    {
     "data": {
      "text/plain": [
       "Map:   0%|          | 0/3 [00:00<?, ? examples/s]"
      ],
      "application/vnd.jupyter.widget-view+json": {
       "version_major": 2,
       "version_minor": 0,
       "model_id": "ba00cc39ab76474991ca159e89a83507"
      }
     },
     "metadata": {},
     "output_type": "display_data"
    },
    {
     "data": {
      "text/plain": [
       "Map:   0%|          | 0/350 [00:00<?, ? examples/s]"
      ],
      "application/vnd.jupyter.widget-view+json": {
       "version_major": 2,
       "version_minor": 0,
       "model_id": "5d121987a7ae49c098ef2c3f932534cf"
      }
     },
     "metadata": {},
     "output_type": "display_data"
    }
   ],
   "execution_count": 13
  },
  {
   "metadata": {},
   "cell_type": "markdown",
   "source": "### Training Setup with ML Flow tracking",
   "id": "585814cafe300e66"
  },
  {
   "metadata": {},
   "cell_type": "markdown",
   "source": [
    "make sure you started the ml flow server beforehand.\n",
    "\n",
    "run `mlflow server --host 127.0.0.1 --port 8080` in a terminal before continuing"
   ],
   "id": "bdcc8c7b27873b33"
  },
  {
   "metadata": {
    "ExecuteTime": {
     "end_time": "2025-04-30T16:42:41.607870Z",
     "start_time": "2025-04-30T16:42:41.487917Z"
    }
   },
   "cell_type": "code",
   "source": [
    "args = TrainingArguments(\n",
    "    output_dir=\"car_brands_image_detection\",\n",
    "    logging_dir=\"./logs\",\n",
    "    eval_strategy=\"epoch\",\n",
    "    logging_strategy=\"steps\",\n",
    "    logging_steps=1,\n",
    "    learning_rate=5e-5,\n",
    "    per_device_train_batch_size=8,\n",
    "    per_device_eval_batch_size=4,\n",
    "    num_train_epochs=1,\n",
    "    weight_decay=0.02,\n",
    "    warmup_steps=50,\n",
    "    remove_unused_columns=False,\n",
    "    save_strategy=\"epoch\",\n",
    "    load_best_model_at_end=True,\n",
    "    save_total_limit=1,\n",
    "    report_to=\"mlflow\"\n",
    ")\n",
    "\n",
    "trainer = Trainer(\n",
    "    model=model,\n",
    "    args=args,\n",
    "    train_dataset=dataset_train,\n",
    "    eval_dataset=dataset_val,\n",
    "    data_collator=collate_fn,\n",
    "    compute_metrics=compute_metrics,\n",
    "    processing_class=processor,\n",
    ")"
   ],
   "id": "9ecf0438d3e8f801",
   "outputs": [],
   "execution_count": 14
  },
  {
   "metadata": {
    "ExecuteTime": {
     "end_time": "2025-04-30T16:47:16.928202Z",
     "start_time": "2025-04-30T16:42:49.462579Z"
    }
   },
   "cell_type": "code",
   "source": [
    "mlflow.set_tracking_uri(\"http://127.0.0.1:8080\")\n",
    "mlflow.set_experiment(\"car_brand_classification\")\n",
    "\n",
    "# train\n",
    "trainer.train()\n",
    "\n",
    "# log metrics\n",
    "eval_results = trainer.evaluate()\n",
    "for key, value in eval_results.items():\n",
    "    mlflow.log_metric(key, float(value))\n",
    "\n",
    "# save and log model\n",
    "timestamp = datetime.now().strftime(\"%Y%m%d_%H%M%S\")\n",
    "save_path = os.path.join(\"sandbox\", \"checkpoints\", f\"model_{timestamp}\")\n",
    "os.makedirs(save_path, exist_ok=True)\n",
    "\n",
    "trainer.save_model(save_path)\n",
    "mlflow.log_param(\"model_save_path\", save_path)\n",
    "mlflow.log_artifacts(save_path, artifact_path=\"model\")"
   ],
   "id": "66164df034b45a26",
   "outputs": [
    {
     "name": "stderr",
     "output_type": "stream",
     "text": [
      "C:\\Users\\boni3\\PycharmProjects\\charre\\.venv\\Lib\\site-packages\\torch\\utils\\data\\dataloader.py:665: UserWarning: 'pin_memory' argument is set as true but no accelerator is found, then device pinned memory won't be used.\n",
      "  warnings.warn(warn_msg)\n"
     ]
    },
    {
     "data": {
      "text/plain": [
       "<IPython.core.display.HTML object>"
      ],
      "text/html": [
       "\n",
       "    <div>\n",
       "      \n",
       "      <progress value='1' max='1' style='width:300px; height:20px; vertical-align: middle;'></progress>\n",
       "      [1/1 02:10, Epoch 1/1]\n",
       "    </div>\n",
       "    <table border=\"1\" class=\"dataframe\">\n",
       "  <thead>\n",
       " <tr style=\"text-align: left;\">\n",
       "      <th>Epoch</th>\n",
       "      <th>Training Loss</th>\n",
       "      <th>Validation Loss</th>\n",
       "      <th>Accuracy</th>\n",
       "    </tr>\n",
       "  </thead>\n",
       "  <tbody>\n",
       "    <tr>\n",
       "      <td>1</td>\n",
       "      <td>3.526500</td>\n",
       "      <td>2.017773</td>\n",
       "      <td>0.525714</td>\n",
       "    </tr>\n",
       "  </tbody>\n",
       "</table><p>"
      ]
     },
     "metadata": {},
     "output_type": "display_data"
    },
    {
     "name": "stderr",
     "output_type": "stream",
     "text": [
      "C:\\Users\\boni3\\PycharmProjects\\charre\\.venv\\Lib\\site-packages\\torch\\utils\\data\\dataloader.py:665: UserWarning: 'pin_memory' argument is set as true but no accelerator is found, then device pinned memory won't be used.\n",
      "  warnings.warn(warn_msg)\n"
     ]
    },
    {
     "data": {
      "text/plain": [
       "<IPython.core.display.HTML object>"
      ],
      "text/html": [
       "\n",
       "    <div>\n",
       "      \n",
       "      <progress value='88' max='88' style='width:300px; height:20px; vertical-align: middle;'></progress>\n",
       "      [88/88 02:05]\n",
       "    </div>\n",
       "    "
      ]
     },
     "metadata": {},
     "output_type": "display_data"
    }
   ],
   "execution_count": 15
  },
  {
   "metadata": {},
   "cell_type": "code",
   "outputs": [],
   "execution_count": null,
   "source": "",
   "id": "84efde309737f83c"
  }
 ],
 "metadata": {
  "kernelspec": {
   "display_name": "Python 3",
   "language": "python",
   "name": "python3"
  },
  "language_info": {
   "codemirror_mode": {
    "name": "ipython",
    "version": 2
   },
   "file_extension": ".py",
   "mimetype": "text/x-python",
   "name": "python",
   "nbconvert_exporter": "python",
   "pygments_lexer": "ipython2",
   "version": "2.7.6"
  }
 },
 "nbformat": 4,
 "nbformat_minor": 5
}
