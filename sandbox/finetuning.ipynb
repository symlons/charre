{
 "cells": [
  {
   "cell_type": "code",
   "execution_count": null,
   "id": "initial_id",
   "metadata": {
    "ExecuteTime": {
     "end_time": "2025-04-30T16:39:23.806217Z",
     "start_time": "2025-04-30T16:39:12.918086Z"
    }
   },
   "outputs": [],
   "source": [
    "import os\n",
    "import io\n",
    "import json\n",
    "import torch\n",
    "import mlflow\n",
    "import pandas as pd\n",
    "from pathlib import Path\n",
    "from datasets import Dataset\n",
    "from datetime import datetime\n",
    "from PIL import Image as PILImage\n",
    "from feedback.feedback.models import Feedback\n",
    "from transformers import TrainingArguments, Trainer\n",
    "from transformers import ViTImageProcessor, ViTForImageClassification\n",
    "from sklearn.metrics import accuracy_score, precision_score, recall_score, f1_score"
   ]
  },
  {
   "cell_type": "code",
   "execution_count": null,
   "id": "bf21e378-4c22-41bd-b10e-1d44362c6bf6",
   "metadata": {},
   "outputs": [],
   "source": [
    "from feedback.feedback.models import Feedback"
   ]
  },
  {
   "cell_type": "markdown",
   "id": "6149fddb1a6802a",
   "metadata": {},
   "source": [
    "### Training Data (mock images and feedback list)"
   ]
  },
  {
   "cell_type": "code",
   "execution_count": null,
   "id": "7493ab2404de8756",
   "metadata": {
    "ExecuteTime": {
     "end_time": "2025-04-30T16:39:27.634950Z",
     "start_time": "2025-04-30T16:39:27.627821Z"
    }
   },
   "outputs": [],
   "source": [
    "IMG_MOCK_DIR = Path.cwd().parent / \"api\" / \"mock\"\n",
    "audi = IMG_MOCK_DIR / \"audi.jpg\"\n",
    "bmw = IMG_MOCK_DIR / \"bmw.jpg\"\n",
    "vw = IMG_MOCK_DIR / \"vw.jpg\"\n",
    "feedback = [\n",
    "    Feedback(\n",
    "        image=audi.read_bytes(),\n",
    "        label=\"Audi\",\n",
    "        correct=True,\n",
    "        correct_label=\"Audi\",\n",
    "    ),\n",
    "    Feedback(\n",
    "        image=bmw.read_bytes(),\n",
    "        label=\"Audi\",\n",
    "        correct=False,\n",
    "        correct_label=\"BMW\",\n",
    "    ),\n",
    "    Feedback(\n",
    "        image=vw.read_bytes(),\n",
    "        label=\"BMW\",\n",
    "        correct=False,\n",
    "        correct_label=\"Volkswagen\",\n",
    "    ),\n",
    "]"
   ]
  },
  {
   "cell_type": "code",
   "execution_count": 3,
   "id": "30c24815f97b9600",
   "metadata": {
    "ExecuteTime": {
     "end_time": "2025-04-30T16:39:28.831014Z",
     "start_time": "2025-04-30T16:39:28.810279Z"
    }
   },
   "outputs": [],
   "source": [
    "image_bytes = [feedback_item.image for feedback_item in feedback]\n",
    "images = [PILImage.open(io.BytesIO(image_bytes)) for image_bytes in image_bytes]\n",
    "labels = [feedback_item.correct_label for feedback_item in feedback]\n",
    "df_train = pd.DataFrame({\"image\": image_bytes, \"label\": labels})"
   ]
  },
  {
   "cell_type": "markdown",
   "id": "15f5326b96b11c3",
   "metadata": {},
   "source": [
    "### Validation Data"
   ]
  },
  {
   "cell_type": "code",
   "execution_count": 4,
   "id": "b217594e0dbf3e69",
   "metadata": {
    "ExecuteTime": {
     "end_time": "2025-04-30T16:39:31.590585Z",
     "start_time": "2025-04-30T16:39:31.586554Z"
    }
   },
   "outputs": [],
   "source": [
    "def image_to_bytes(image_path: \"str\") -> bytes:\n",
    "    with open(image_path, \"rb\") as img_file:\n",
    "        return img_file.read()"
   ]
  },
  {
   "cell_type": "code",
   "execution_count": 5,
   "id": "8fed2cb4a975d4ac",
   "metadata": {
    "ExecuteTime": {
     "end_time": "2025-04-30T16:39:32.672463Z",
     "start_time": "2025-04-30T16:39:32.525633Z"
    }
   },
   "outputs": [],
   "source": [
    "df_val = pd.read_csv(\"validation.csv\")\n",
    "df_val[\"image\"] = df_val[\"image_path\"].apply(image_to_bytes)\n",
    "df_val = df_val.drop(columns=[\"image_path\"])"
   ]
  },
  {
   "cell_type": "markdown",
   "id": "eca9422ccb02bb8f",
   "metadata": {},
   "source": [
    "### Helper Functions"
   ]
  },
  {
   "cell_type": "code",
   "execution_count": 11,
   "id": "28059290ad9b5f27",
   "metadata": {
    "ExecuteTime": {
     "end_time": "2025-04-30T16:42:33.954521Z",
     "start_time": "2025-04-30T16:42:33.949262Z"
    }
   },
   "outputs": [],
   "source": [
    "def preprocess(example) -> dict:\n",
    "    \"\"\"\n",
    "    preprocessing necessary as FeedbackAPI provides image as bytes and not as files\n",
    "    :param example: entry in a Dataset object\n",
    "    :return: image (preprocessed) and label (preserved)\n",
    "    \"\"\"\n",
    "    image = PILImage.open(io.BytesIO(example[\"image\"])).convert(\"RGB\")\n",
    "    inputs = processor(images=image, return_tensors=\"np\")\n",
    "    label_id = label2id[example[\"label\"]]\n",
    "    return {\n",
    "        \"pixel_values\": inputs[\"pixel_values\"].squeeze(),\n",
    "        \"label\": label_id\n",
    "    }\n",
    "\n",
    "\n",
    "# Evaluation metric\n",
    "def compute_metrics(eval_pred) -> dict:\n",
    "    predictions = eval_pred.predictions\n",
    "    label_ids = eval_pred.label_ids\n",
    "    predicted_labels = predictions.argmax(axis=1)\n",
    "    return {\"accuracy\": accuracy_score(label_ids, predicted_labels)}\n",
    "\n",
    "\n",
    "# Data collator\n",
    "def collate_fn(examples):\n",
    "    pixel_values = torch.stack([torch.tensor(example[\"pixel_values\"]) for example in examples])\n",
    "    labels = torch.tensor([example['label'] for example in examples])\n",
    "    return {\"pixel_values\": pixel_values, \"labels\": labels}"
   ]
  },
  {
   "cell_type": "markdown",
   "id": "bfe57a5d8f51a229",
   "metadata": {},
   "source": [
    "### Model"
   ]
  },
  {
   "cell_type": "code",
   "execution_count": 12,
   "id": "56daaba3a8582673",
   "metadata": {
    "ExecuteTime": {
     "end_time": "2025-04-30T16:42:36.547400Z",
     "start_time": "2025-04-30T16:42:35.984425Z"
    }
   },
   "outputs": [],
   "source": [
    "with open(\"config.json\", \"r\") as file:\n",
    "    config = json.load(file)\n",
    "id2label = config.get(\"id2label\")\n",
    "label2id = config.get(\"label2id\")\n",
    "\n",
    "# load model\n",
    "model_id = \"dima806/car_brands_image_detection\"\n",
    "processor = ViTImageProcessor.from_pretrained(model_id)\n",
    "model = ViTForImageClassification.from_pretrained(\n",
    "    model_id,\n",
    "    use_safetensors=True,\n",
    "    trust_remote_code=True\n",
    ")"
   ]
  },
  {
   "cell_type": "code",
   "execution_count": 13,
   "id": "707012b1055b8890",
   "metadata": {
    "ExecuteTime": {
     "end_time": "2025-04-30T16:42:40.406411Z",
     "start_time": "2025-04-30T16:42:38.440017Z"
    }
   },
   "outputs": [
    {
     "data": {
      "application/vnd.jupyter.widget-view+json": {
       "model_id": "ba00cc39ab76474991ca159e89a83507",
       "version_major": 2,
       "version_minor": 0
      },
      "text/plain": [
       "Map:   0%|          | 0/3 [00:00<?, ? examples/s]"
      ]
     },
     "metadata": {},
     "output_type": "display_data"
    },
    {
     "data": {
      "application/vnd.jupyter.widget-view+json": {
       "model_id": "5d121987a7ae49c098ef2c3f932534cf",
       "version_major": 2,
       "version_minor": 0
      },
      "text/plain": [
       "Map:   0%|          | 0/350 [00:00<?, ? examples/s]"
      ]
     },
     "metadata": {},
     "output_type": "display_data"
    }
   ],
   "source": [
    "dataset_train = Dataset.from_pandas(df_train)\n",
    "dataset_train = dataset_train.map(preprocess)\n",
    "\n",
    "dataset_val = Dataset.from_pandas(df_val)\n",
    "dataset_val = dataset_val.map(preprocess)"
   ]
  },
  {
   "cell_type": "markdown",
   "id": "585814cafe300e66",
   "metadata": {},
   "source": [
    "### Training Setup with ML Flow tracking"
   ]
  },
  {
   "cell_type": "markdown",
   "id": "bdcc8c7b27873b33",
   "metadata": {},
   "source": [
    "make sure you started the ml flow server beforehand.\n",
    "\n",
    "run `mlflow server --host 127.0.0.1 --port 8080` in a terminal before continuing"
   ]
  },
  {
   "cell_type": "code",
   "execution_count": 14,
   "id": "9ecf0438d3e8f801",
   "metadata": {
    "ExecuteTime": {
     "end_time": "2025-04-30T16:42:41.607870Z",
     "start_time": "2025-04-30T16:42:41.487917Z"
    }
   },
   "outputs": [],
   "source": [
    "args = TrainingArguments(\n",
    "    output_dir=\"car_brands_image_detection\",\n",
    "    logging_dir=\"./logs\",\n",
    "    eval_strategy=\"epoch\",\n",
    "    logging_strategy=\"steps\",\n",
    "    logging_steps=1,\n",
    "    learning_rate=5e-5,\n",
    "    per_device_train_batch_size=8,\n",
    "    per_device_eval_batch_size=4,\n",
    "    num_train_epochs=1,\n",
    "    weight_decay=0.02,\n",
    "    warmup_steps=50,\n",
    "    remove_unused_columns=False,\n",
    "    save_strategy=\"epoch\",\n",
    "    load_best_model_at_end=True,\n",
    "    save_total_limit=1,\n",
    "    report_to=\"mlflow\"\n",
    ")\n",
    "\n",
    "trainer = Trainer(\n",
    "    model=model,\n",
    "    args=args,\n",
    "    train_dataset=dataset_train,\n",
    "    eval_dataset=dataset_val,\n",
    "    data_collator=collate_fn,\n",
    "    compute_metrics=compute_metrics,\n",
    "    processing_class=processor,\n",
    ")"
   ]
  },
  {
   "cell_type": "code",
   "execution_count": 15,
   "id": "66164df034b45a26",
   "metadata": {
    "ExecuteTime": {
     "end_time": "2025-04-30T16:47:16.928202Z",
     "start_time": "2025-04-30T16:42:49.462579Z"
    }
   },
   "outputs": [
    {
     "name": "stderr",
     "output_type": "stream",
     "text": [
      "C:\\Users\\boni3\\PycharmProjects\\charre\\.venv\\Lib\\site-packages\\torch\\utils\\data\\dataloader.py:665: UserWarning: 'pin_memory' argument is set as true but no accelerator is found, then device pinned memory won't be used.\n",
      "  warnings.warn(warn_msg)\n"
     ]
    },
    {
     "data": {
      "text/html": [
       "\n",
       "    <div>\n",
       "      \n",
       "      <progress value='1' max='1' style='width:300px; height:20px; vertical-align: middle;'></progress>\n",
       "      [1/1 02:10, Epoch 1/1]\n",
       "    </div>\n",
       "    <table border=\"1\" class=\"dataframe\">\n",
       "  <thead>\n",
       " <tr style=\"text-align: left;\">\n",
       "      <th>Epoch</th>\n",
       "      <th>Training Loss</th>\n",
       "      <th>Validation Loss</th>\n",
       "      <th>Accuracy</th>\n",
       "    </tr>\n",
       "  </thead>\n",
       "  <tbody>\n",
       "    <tr>\n",
       "      <td>1</td>\n",
       "      <td>3.526500</td>\n",
       "      <td>2.017773</td>\n",
       "      <td>0.525714</td>\n",
       "    </tr>\n",
       "  </tbody>\n",
       "</table><p>"
      ],
      "text/plain": [
       "<IPython.core.display.HTML object>"
      ]
     },
     "metadata": {},
     "output_type": "display_data"
    },
    {
     "name": "stderr",
     "output_type": "stream",
     "text": [
      "C:\\Users\\boni3\\PycharmProjects\\charre\\.venv\\Lib\\site-packages\\torch\\utils\\data\\dataloader.py:665: UserWarning: 'pin_memory' argument is set as true but no accelerator is found, then device pinned memory won't be used.\n",
      "  warnings.warn(warn_msg)\n"
     ]
    },
    {
     "data": {
      "text/html": [
       "\n",
       "    <div>\n",
       "      \n",
       "      <progress value='88' max='88' style='width:300px; height:20px; vertical-align: middle;'></progress>\n",
       "      [88/88 02:05]\n",
       "    </div>\n",
       "    "
      ],
      "text/plain": [
       "<IPython.core.display.HTML object>"
      ]
     },
     "metadata": {},
     "output_type": "display_data"
    }
   ],
   "source": [
    "mlflow.set_tracking_uri(\"http://127.0.0.1:8080\")\n",
    "mlflow.set_experiment(\"car_brand_classification\")\n",
    "\n",
    "# train\n",
    "trainer.train()\n",
    "\n",
    "# log metrics\n",
    "eval_results = trainer.evaluate()\n",
    "for key, value in eval_results.items():\n",
    "    mlflow.log_metric(key, float(value))\n",
    "\n",
    "# save and log model\n",
    "timestamp = datetime.now().strftime(\"%Y%m%d_%H%M%S\")\n",
    "save_path = os.path.join(\"sandbox\", \"checkpoints\", f\"model_{timestamp}\")\n",
    "os.makedirs(save_path, exist_ok=True)\n",
    "\n",
    "trainer.save_model(save_path)\n",
    "mlflow.log_param(\"model_save_path\", save_path)\n",
    "mlflow.log_artifacts(save_path, artifact_path=\"model\")"
   ]
  },
  {
   "cell_type": "code",
   "execution_count": null,
   "id": "84efde309737f83c",
   "metadata": {},
   "outputs": [],
   "source": []
  }
 ],
 "metadata": {
  "kernelspec": {
   "display_name": "Python 3 (ipykernel)",
   "language": "python",
   "name": "python3"
  },
  "language_info": {
   "codemirror_mode": {
    "name": "ipython",
    "version": 3
   },
   "file_extension": ".py",
   "mimetype": "text/x-python",
   "name": "python",
   "nbconvert_exporter": "python",
   "pygments_lexer": "ipython3",
   "version": "3.12.10"
  }
 },
 "nbformat": 4,
 "nbformat_minor": 5
}
