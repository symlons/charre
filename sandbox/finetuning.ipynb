{
 "cells": [
  {
   "cell_type": "code",
   "id": "initial_id",
   "metadata": {
    "collapsed": true,
    "ExecuteTime": {
     "end_time": "2025-04-27T14:46:13.323889Z",
     "start_time": "2025-04-27T14:46:06.178355Z"
    }
   },
   "source": [
    "import io\n",
    "import json\n",
    "import torch\n",
    "import evaluate\n",
    "import pandas as pd\n",
    "from pathlib import Path\n",
    "from datasets import Dataset\n",
    "from PIL import Image as PILImage\n",
    "from api.feedback.models import Feedback\n",
    "from transformers import TrainingArguments, Trainer\n",
    "from transformers import ViTImageProcessor, ViTForImageClassification"
   ],
   "outputs": [],
   "execution_count": 1
  },
  {
   "metadata": {},
   "cell_type": "markdown",
   "source": "### Training Data (mock images and feedback list)",
   "id": "6149fddb1a6802a"
  },
  {
   "metadata": {
    "ExecuteTime": {
     "end_time": "2025-04-27T14:46:14.451813Z",
     "start_time": "2025-04-27T14:46:14.444986Z"
    }
   },
   "cell_type": "code",
   "source": [
    "IMG_MOCK_DIR = Path.cwd().parent / \"api\" / \"mock\"\n",
    "audi = IMG_MOCK_DIR / \"audi.jpg\"\n",
    "bmw = IMG_MOCK_DIR / \"bmw.jpg\"\n",
    "vw = IMG_MOCK_DIR / \"vw.jpg\"\n",
    "feedback = [\n",
    "    Feedback(\n",
    "        image=audi.read_bytes(),\n",
    "        label=\"Audi\",\n",
    "        correct=True,\n",
    "        correct_label=\"Audi\",\n",
    "    ),\n",
    "    Feedback(\n",
    "        image=bmw.read_bytes(),\n",
    "        label=\"Audi\",\n",
    "        correct=False,\n",
    "        correct_label=\"BMW\",\n",
    "    ),\n",
    "    Feedback(\n",
    "        image=vw.read_bytes(),\n",
    "        label=\"BMW\",\n",
    "        correct=False,\n",
    "        correct_label=\"Volkswagen\",\n",
    "    ),\n",
    "]"
   ],
   "id": "7493ab2404de8756",
   "outputs": [],
   "execution_count": 2
  },
  {
   "metadata": {
    "ExecuteTime": {
     "end_time": "2025-04-27T14:46:17.663716Z",
     "start_time": "2025-04-27T14:46:17.647872Z"
    }
   },
   "cell_type": "code",
   "source": [
    "image_bytes = [feedback_item.image for feedback_item in feedback]\n",
    "images = [PILImage.open(io.BytesIO(image_bytes)) for image_bytes in image_bytes]\n",
    "labels = [feedback_item.correct_label for feedback_item in feedback]\n",
    "df_train = pd.DataFrame({\"image\": image_bytes, \"label\": labels})"
   ],
   "id": "30c24815f97b9600",
   "outputs": [],
   "execution_count": 3
  },
  {
   "metadata": {},
   "cell_type": "markdown",
   "source": "### Validation Data",
   "id": "15f5326b96b11c3"
  },
  {
   "metadata": {
    "ExecuteTime": {
     "end_time": "2025-04-27T14:46:19.385228Z",
     "start_time": "2025-04-27T14:46:19.381940Z"
    }
   },
   "cell_type": "code",
   "source": [
    "def image_to_bytes(image_path: \"str\") -> bytes:\n",
    "    with open(image_path, \"rb\") as img_file:\n",
    "        return img_file.read()"
   ],
   "id": "b217594e0dbf3e69",
   "outputs": [],
   "execution_count": 4
  },
  {
   "metadata": {
    "ExecuteTime": {
     "end_time": "2025-04-27T14:46:20.642794Z",
     "start_time": "2025-04-27T14:46:20.590823Z"
    }
   },
   "cell_type": "code",
   "source": [
    "df_val = pd.read_csv(\"validation.csv\")\n",
    "df_val[\"image\"] = df_val[\"image_path\"].apply(image_to_bytes)\n",
    "df_val = df_val.drop(columns=[\"image_path\"])"
   ],
   "id": "8fed2cb4a975d4ac",
   "outputs": [],
   "execution_count": 5
  },
  {
   "metadata": {},
   "cell_type": "markdown",
   "source": "### Helper Functions",
   "id": "eca9422ccb02bb8f"
  },
  {
   "metadata": {
    "ExecuteTime": {
     "end_time": "2025-04-27T14:48:22.233015Z",
     "start_time": "2025-04-27T14:48:22.226244Z"
    }
   },
   "cell_type": "code",
   "source": [
    "def preprocess(example) -> dict:\n",
    "    \"\"\"\n",
    "    preprocessing necessary as FeedbackAPI provides image as bytes and not as files\n",
    "    :param example: entry in a Dataset object\n",
    "    :return: image (preprocessed) and label (preserved)\n",
    "    \"\"\"\n",
    "    image = PILImage.open(io.BytesIO(example[\"image\"])).convert(\"RGB\")\n",
    "    inputs = processor(images=image, return_tensors=\"np\")\n",
    "    label_id = label2id[example[\"label\"]]\n",
    "    return {\n",
    "        \"pixel_values\": inputs[\"pixel_values\"].squeeze(),\n",
    "        \"label\": label_id\n",
    "    }\n",
    "\n",
    "\n",
    "# Evaluation metric\n",
    "def compute_metrics(eval_pred) -> dict:\n",
    "    predictions = eval_pred.predictions\n",
    "    label_ids = eval_pred.label_ids\n",
    "    predicted_labels = predictions.argmax(axis=1)\n",
    "    acc_score = accuracy.compute(predictions=predicted_labels, references=label_ids)['accuracy']\n",
    "    return {\"accuracy\": acc_score}\n",
    "\n",
    "\n",
    "# Data collator\n",
    "def collate_fn(examples):\n",
    "    pixel_values = torch.stack([torch.tensor(example[\"pixel_values\"]) for example in examples])\n",
    "    labels = torch.tensor([example['label'] for example in examples])\n",
    "    return {\"pixel_values\": pixel_values, \"labels\": labels}"
   ],
   "id": "28059290ad9b5f27",
   "outputs": [],
   "execution_count": 12
  },
  {
   "metadata": {},
   "cell_type": "markdown",
   "source": "### Model",
   "id": "bfe57a5d8f51a229"
  },
  {
   "metadata": {
    "ExecuteTime": {
     "end_time": "2025-04-27T14:48:26.565901Z",
     "start_time": "2025-04-27T14:48:26.053706Z"
    }
   },
   "cell_type": "code",
   "source": [
    "with open(\"config.json\", \"r\") as file:\n",
    "    config = json.load(file)\n",
    "id2label = config.get(\"id2label\")\n",
    "label2id = config.get(\"label2id\")\n",
    "\n",
    "# load model\n",
    "model_id = \"dima806/car_brands_image_detection\"\n",
    "processor = ViTImageProcessor.from_pretrained(model_id)\n",
    "model = ViTForImageClassification.from_pretrained(\n",
    "    model_id,\n",
    "    use_safetensors=True,\n",
    "    trust_remote_code=True\n",
    ")"
   ],
   "id": "56daaba3a8582673",
   "outputs": [],
   "execution_count": 13
  },
  {
   "metadata": {
    "ExecuteTime": {
     "end_time": "2025-04-27T14:48:30.875228Z",
     "start_time": "2025-04-27T14:48:27.981990Z"
    }
   },
   "cell_type": "code",
   "source": [
    "dataset_train = Dataset.from_pandas(df_train)\n",
    "dataset_train = dataset_train.map(preprocess)\n",
    "\n",
    "dataset_val = Dataset.from_pandas(df_val)\n",
    "dataset_val = dataset_val.map(preprocess)\n",
    "\n",
    "# Evaluation metric\n",
    "accuracy = evaluate.load(\"accuracy\")"
   ],
   "id": "ae1d42b50224663b",
   "outputs": [
    {
     "data": {
      "text/plain": [
       "Map:   0%|          | 0/3 [00:00<?, ? examples/s]"
      ],
      "application/vnd.jupyter.widget-view+json": {
       "version_major": 2,
       "version_minor": 0,
       "model_id": "04f5a18ccc7e426d9a6784a3a8fd265d"
      }
     },
     "metadata": {},
     "output_type": "display_data"
    },
    {
     "data": {
      "text/plain": [
       "Map:   0%|          | 0/350 [00:00<?, ? examples/s]"
      ],
      "application/vnd.jupyter.widget-view+json": {
       "version_major": 2,
       "version_minor": 0,
       "model_id": "64c79c63f82b4b438fd9e491b771e422"
      }
     },
     "metadata": {},
     "output_type": "display_data"
    }
   ],
   "execution_count": 14
  },
  {
   "metadata": {},
   "cell_type": "markdown",
   "source": "### Training Setup",
   "id": "e7e3f4b7782d8793"
  },
  {
   "metadata": {
    "ExecuteTime": {
     "end_time": "2025-04-27T15:01:58.490183Z",
     "start_time": "2025-04-27T15:01:58.471315Z"
    }
   },
   "cell_type": "code",
   "source": [
    "args = TrainingArguments(\n",
    "    output_dir=\"car_brands_image_detection\",\n",
    "    logging_dir='./logs',\n",
    "    eval_strategy=\"epoch\",\n",
    "    logging_strategy=\"steps\",\n",
    "    logging_steps=10,\n",
    "    learning_rate=5e-6,\n",
    "    per_device_train_batch_size=32,\n",
    "    per_device_eval_batch_size=8,\n",
    "    num_train_epochs=4,\n",
    "    weight_decay=0.02,\n",
    "    warmup_steps=50,\n",
    "    remove_unused_columns=False,\n",
    "    save_strategy='epoch',\n",
    "    load_best_model_at_end=True,\n",
    "    save_total_limit=1,\n",
    "    report_to=\"none\"\n",
    ")\n",
    "\n",
    "trainer = Trainer(\n",
    "    model=model,\n",
    "    args=args,\n",
    "    train_dataset=dataset_train,\n",
    "    eval_dataset=dataset_val,\n",
    "    data_collator=collate_fn,\n",
    "    compute_metrics=compute_metrics,\n",
    "    processing_class=processor,\n",
    ")"
   ],
   "id": "9d3072061b5e3aea",
   "outputs": [],
   "execution_count": 17
  },
  {
   "metadata": {},
   "cell_type": "markdown",
   "source": "### Evaluate Validation Set before training",
   "id": "d09227833270694d"
  },
  {
   "metadata": {
    "ExecuteTime": {
     "end_time": "2025-04-27T15:04:08.730252Z",
     "start_time": "2025-04-27T15:02:02.118438Z"
    }
   },
   "cell_type": "code",
   "source": "trainer.evaluate()",
   "id": "d739e3188d0492a2",
   "outputs": [
    {
     "name": "stderr",
     "output_type": "stream",
     "text": [
      "C:\\Users\\boni3\\PycharmProjects\\charre\\.venv\\Lib\\site-packages\\torch\\utils\\data\\dataloader.py:665: UserWarning: 'pin_memory' argument is set as true but no accelerator is found, then device pinned memory won't be used.\n",
      "  warnings.warn(warn_msg)\n"
     ]
    },
    {
     "data": {
      "text/plain": [
       "<IPython.core.display.HTML object>"
      ],
      "text/html": [
       "\n",
       "    <div>\n",
       "      \n",
       "      <progress value='88' max='44' style='width:300px; height:20px; vertical-align: middle;'></progress>\n",
       "      [44/44 04:49]\n",
       "    </div>\n",
       "    "
      ]
     },
     "metadata": {},
     "output_type": "display_data"
    },
    {
     "data": {
      "text/plain": [
       "{'eval_loss': 2.006784200668335,\n",
       " 'eval_model_preparation_time': 0.0031,\n",
       " 'eval_accuracy': 0.5228571428571429,\n",
       " 'eval_runtime': 126.6022,\n",
       " 'eval_samples_per_second': 2.765,\n",
       " 'eval_steps_per_second': 0.348}"
      ]
     },
     "execution_count": 18,
     "metadata": {},
     "output_type": "execute_result"
    }
   ],
   "execution_count": 18
  },
  {
   "metadata": {},
   "cell_type": "markdown",
   "source": "### Train Model",
   "id": "7453bd489b0fa00b"
  },
  {
   "metadata": {
    "ExecuteTime": {
     "end_time": "2025-04-27T15:13:17.180173Z",
     "start_time": "2025-04-27T15:04:48.901717Z"
    }
   },
   "cell_type": "code",
   "source": "trainer.train()",
   "id": "c6140515fb9d263f",
   "outputs": [
    {
     "name": "stderr",
     "output_type": "stream",
     "text": [
      "C:\\Users\\boni3\\PycharmProjects\\charre\\.venv\\Lib\\site-packages\\torch\\utils\\data\\dataloader.py:665: UserWarning: 'pin_memory' argument is set as true but no accelerator is found, then device pinned memory won't be used.\n",
      "  warnings.warn(warn_msg)\n"
     ]
    },
    {
     "data": {
      "text/plain": [
       "<IPython.core.display.HTML object>"
      ],
      "text/html": [
       "\n",
       "    <div>\n",
       "      \n",
       "      <progress value='4' max='4' style='width:300px; height:20px; vertical-align: middle;'></progress>\n",
       "      [4/4 08:24, Epoch 4/4]\n",
       "    </div>\n",
       "    <table border=\"1\" class=\"dataframe\">\n",
       "  <thead>\n",
       " <tr style=\"text-align: left;\">\n",
       "      <th>Epoch</th>\n",
       "      <th>Training Loss</th>\n",
       "      <th>Validation Loss</th>\n",
       "      <th>Model Preparation Time</th>\n",
       "      <th>Accuracy</th>\n",
       "    </tr>\n",
       "  </thead>\n",
       "  <tbody>\n",
       "    <tr>\n",
       "      <td>1</td>\n",
       "      <td>No log</td>\n",
       "      <td>2.006784</td>\n",
       "      <td>0.003100</td>\n",
       "      <td>0.522857</td>\n",
       "    </tr>\n",
       "    <tr>\n",
       "      <td>2</td>\n",
       "      <td>No log</td>\n",
       "      <td>2.006110</td>\n",
       "      <td>0.003100</td>\n",
       "      <td>0.522857</td>\n",
       "    </tr>\n",
       "    <tr>\n",
       "      <td>3</td>\n",
       "      <td>No log</td>\n",
       "      <td>2.004786</td>\n",
       "      <td>0.003100</td>\n",
       "      <td>0.520000</td>\n",
       "    </tr>\n",
       "    <tr>\n",
       "      <td>4</td>\n",
       "      <td>No log</td>\n",
       "      <td>2.002869</td>\n",
       "      <td>0.003100</td>\n",
       "      <td>0.520000</td>\n",
       "    </tr>\n",
       "  </tbody>\n",
       "</table><p>"
      ]
     },
     "metadata": {},
     "output_type": "display_data"
    },
    {
     "name": "stderr",
     "output_type": "stream",
     "text": [
      "C:\\Users\\boni3\\PycharmProjects\\charre\\.venv\\Lib\\site-packages\\torch\\utils\\data\\dataloader.py:665: UserWarning: 'pin_memory' argument is set as true but no accelerator is found, then device pinned memory won't be used.\n",
      "  warnings.warn(warn_msg)\n",
      "C:\\Users\\boni3\\PycharmProjects\\charre\\.venv\\Lib\\site-packages\\torch\\utils\\data\\dataloader.py:665: UserWarning: 'pin_memory' argument is set as true but no accelerator is found, then device pinned memory won't be used.\n",
      "  warnings.warn(warn_msg)\n",
      "C:\\Users\\boni3\\PycharmProjects\\charre\\.venv\\Lib\\site-packages\\torch\\utils\\data\\dataloader.py:665: UserWarning: 'pin_memory' argument is set as true but no accelerator is found, then device pinned memory won't be used.\n",
      "  warnings.warn(warn_msg)\n"
     ]
    },
    {
     "data": {
      "text/plain": [
       "TrainOutput(global_step=4, training_loss=3.2835543155670166, metrics={'train_runtime': 508.032, 'train_samples_per_second': 0.024, 'train_steps_per_second': 0.008, 'total_flos': 930345600393216.0, 'train_loss': 3.2835543155670166, 'epoch': 4.0})"
      ]
     },
     "execution_count": 19,
     "metadata": {},
     "output_type": "execute_result"
    }
   ],
   "execution_count": 19
  },
  {
   "metadata": {
    "ExecuteTime": {
     "end_time": "2025-04-27T15:15:43.101141Z",
     "start_time": "2025-04-27T15:13:39.786832Z"
    }
   },
   "cell_type": "code",
   "source": "trainer.evaluate()",
   "id": "a5df9df761af5c97",
   "outputs": [
    {
     "name": "stderr",
     "output_type": "stream",
     "text": [
      "C:\\Users\\boni3\\PycharmProjects\\charre\\.venv\\Lib\\site-packages\\torch\\utils\\data\\dataloader.py:665: UserWarning: 'pin_memory' argument is set as true but no accelerator is found, then device pinned memory won't be used.\n",
      "  warnings.warn(warn_msg)\n"
     ]
    },
    {
     "data": {
      "text/plain": [
       "<IPython.core.display.HTML object>"
      ],
      "text/html": [
       "\n",
       "    <div>\n",
       "      \n",
       "      <progress value='44' max='44' style='width:300px; height:20px; vertical-align: middle;'></progress>\n",
       "      [44/44 01:59]\n",
       "    </div>\n",
       "    "
      ]
     },
     "metadata": {},
     "output_type": "display_data"
    },
    {
     "data": {
      "text/plain": [
       "{'eval_loss': 2.0028693675994873,\n",
       " 'eval_model_preparation_time': 0.0031,\n",
       " 'eval_accuracy': 0.52,\n",
       " 'eval_runtime': 123.3039,\n",
       " 'eval_samples_per_second': 2.839,\n",
       " 'eval_steps_per_second': 0.357,\n",
       " 'epoch': 4.0}"
      ]
     },
     "execution_count": 20,
     "metadata": {},
     "output_type": "execute_result"
    }
   ],
   "execution_count": 20
  }
 ],
 "metadata": {
  "kernelspec": {
   "display_name": "Python 3",
   "language": "python",
   "name": "python3"
  },
  "language_info": {
   "codemirror_mode": {
    "name": "ipython",
    "version": 2
   },
   "file_extension": ".py",
   "mimetype": "text/x-python",
   "name": "python",
   "nbconvert_exporter": "python",
   "pygments_lexer": "ipython2",
   "version": "2.7.6"
  }
 },
 "nbformat": 4,
 "nbformat_minor": 5
}
