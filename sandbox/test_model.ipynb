{
 "cells": [
  {
   "cell_type": "code",
   "id": "initial_id",
   "metadata": {
    "collapsed": true,
    "ExecuteTime": {
     "end_time": "2025-04-12T07:08:30.601242Z",
     "start_time": "2025-04-12T07:08:30.596711Z"
    }
   },
   "source": [
    "from transformers import ViTImageProcessor, ViTForImageClassification\n",
    "from PIL import Image\n",
    "import torch\n",
    "import json"
   ],
   "outputs": [],
   "execution_count": 2
  },
  {
   "metadata": {},
   "cell_type": "markdown",
   "source": "## Load Config",
   "id": "bcba77c8c1c3804d"
  },
  {
   "metadata": {
    "ExecuteTime": {
     "end_time": "2025-04-12T07:08:32.431180Z",
     "start_time": "2025-04-12T07:08:32.427134Z"
    }
   },
   "cell_type": "code",
   "source": [
    "with open(\"config.json\", \"r\") as file:\n",
    "    config = json.load(file)\n",
    "id2label = config.get(\"id2label\")"
   ],
   "id": "f9ebcc2845073dbd",
   "outputs": [],
   "execution_count": 3
  },
  {
   "metadata": {},
   "cell_type": "markdown",
   "source": "## Load Model",
   "id": "88207cec1e4e96d0"
  },
  {
   "metadata": {
    "ExecuteTime": {
     "end_time": "2025-04-12T07:08:36.047164Z",
     "start_time": "2025-04-12T07:08:35.558425Z"
    }
   },
   "cell_type": "code",
   "source": [
    "model_id = \"dima806/car_brands_image_detection\"\n",
    "processor = ViTImageProcessor.from_pretrained(model_id)\n",
    "model = ViTForImageClassification.from_pretrained(\n",
    "    model_id,\n",
    "    use_safetensors=True,\n",
    "    trust_remote_code=True\n",
    ")"
   ],
   "id": "74e869a9a0712ce",
   "outputs": [],
   "execution_count": 4
  },
  {
   "metadata": {},
   "cell_type": "markdown",
   "source": "## Classify Image",
   "id": "c7d47b3b2547ea32"
  },
  {
   "metadata": {
    "ExecuteTime": {
     "end_time": "2025-04-12T07:24:01.060904Z",
     "start_time": "2025-04-12T07:24:00.790783Z"
    }
   },
   "cell_type": "code",
   "source": [
    "image = Image.open(\"./images/Acura/Acura_000.jpg\")\n",
    "inputs = processor(images=image, return_tensors=\"pt\")\n",
    "with torch.no_grad():\n",
    "    outputs = model(**inputs)\n",
    "\n",
    "softmax = outputs.logits\n",
    "predicted_class_idx = softmax.argmax(-1).item()\n",
    "print(\"Predicted class:\", model.config.id2label[predicted_class_idx])"
   ],
   "id": "1124c12d6b594ecf",
   "outputs": [
    {
     "name": "stdout",
     "output_type": "stream",
     "text": [
      "Predicted class: Acura\n"
     ]
    }
   ],
   "execution_count": 14
  }
 ],
 "metadata": {
  "kernelspec": {
   "display_name": "Python 3",
   "language": "python",
   "name": "python3"
  },
  "language_info": {
   "codemirror_mode": {
    "name": "ipython",
    "version": 2
   },
   "file_extension": ".py",
   "mimetype": "text/x-python",
   "name": "python",
   "nbconvert_exporter": "python",
   "pygments_lexer": "ipython2",
   "version": "2.7.6"
  }
 },
 "nbformat": 4,
 "nbformat_minor": 5
}
